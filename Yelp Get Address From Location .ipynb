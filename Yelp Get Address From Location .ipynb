{
 "cells": [
  {
   "cell_type": "code",
   "execution_count": 11,
   "metadata": {},
   "outputs": [
    {
     "name": "stdout",
     "output_type": "stream",
     "text": [
      "Type of nightlife experience: clubs\n",
      "What is the address of the venue? lower east side\n"
     ]
    }
   ],
   "source": [
    "#url https://api.yelp.com/v3/businesses/search\n",
    "import requests \n",
    "api_key='gu4yF1nV3aomwzYAKYWMQ7H0mg-1ZpixLO-XgsvESWQqCIfSG2hUZIwEYLx42DzxPnEGdOS7t-qV0biZ3brXyObKdeu4o78tBINCgq2JuqE-MYiKY6mJ03ltQwY7X3Yx'\n",
    "endpoint= 'https://api.yelp.com/v3/businesses/search'\n",
    "headers= {'Authorization': 'bearer %s' %api_key}\n",
    "\n",
    "term=str(input('Type of nightlife experience: '))\n",
    "location=str(input('What is the address of the venue? '))\n",
    "\n",
    "parameters={'term':term,\n",
    "            'location':location,\n",
    "            'categories': 'bars,clubs,nightlife'\n",
    "           }  \n",
    "\n",
    "response= requests.get(url=endpoint,params=parameters,headers=headers)"
   ]
  },
  {
   "cell_type": "code",
   "execution_count": 12,
   "metadata": {},
   "outputs": [
    {
     "name": "stdout",
     "output_type": "stream",
     "text": [
      "The Delancey : ['168 Delancey St', 'New York, NY 10002']\n",
      "Club Cumming : ['505 E 6th St', 'New York, NY 10009']\n",
      "The Village Underground : ['130 W 3rd St', 'New York, NY 10012']\n",
      "Bembé : ['81 S 6th St', 'Brooklyn, NY 11249']\n",
      "Mehanata : ['113 Ludlow St', 'New York, NY 10002']\n",
      "Pyramid Club : ['101 Ave A', 'New York, NY 10009']\n",
      "Club Cache : ['35 E 13th St', 'Fl 2', 'New York, NY 10003']\n",
      "205 Club : ['205 Chrystie St', 'New York, NY 10002']\n",
      "Solas : ['232 E 9th St', 'New York, NY 10003']\n",
      "Sons of Essex : ['133 Essex St', 'New York, NY 10002']\n",
      "The DL : ['95 Delancey St', 'New York, NY 10002']\n",
      "Bonbonniere : ['92 Ludlow St', 'Hotel Chantelle', 'New York, NY 10002']\n",
      "La Caverna : ['122 Rivington St', 'New York, NY 10002']\n",
      "Hotel Chantelle : ['92 Ludlow St', 'New York, NY 10002']\n",
      "Lounge 247 : ['247 Eldridge St', 'New York, NY 10002']\n",
      "bOb Bar : ['235 Eldridge St', 'New York, NY 10002']\n",
      "Pianos : ['158 Ludlow St', 'New York, NY 10002']\n",
      "Rumpus Room : ['249 Eldridge St', 'New York, NY 10002']\n",
      "Keybar : ['432 E 13th St', 'New York, NY 10009']\n",
      "Madame X : ['94 W Houston St', 'New York, NY 10012']\n"
     ]
    }
   ],
   "source": [
    "search_results=response.json()\n",
    "spots=search_results['businesses']\n",
    "for spot in spots:\n",
    "    name=spot['name']\n",
    "    for key,value in spot['location'].items():\n",
    "         if key=='display_address':\n",
    "                print(name,':',value)\n",
    "    \n",
    "       \n",
    "    \n",
    "\n",
    "\n",
    "    "
   ]
  },
  {
   "cell_type": "code",
   "execution_count": null,
   "metadata": {},
   "outputs": [],
   "source": []
  }
 ],
 "metadata": {
  "kernelspec": {
   "display_name": "Python 3",
   "language": "python",
   "name": "python3"
  },
  "language_info": {
   "codemirror_mode": {
    "name": "ipython",
    "version": 3
   },
   "file_extension": ".py",
   "mimetype": "text/x-python",
   "name": "python",
   "nbconvert_exporter": "python",
   "pygments_lexer": "ipython3",
   "version": "3.7.6"
  }
 },
 "nbformat": 4,
 "nbformat_minor": 4
}
